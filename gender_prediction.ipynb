{
 "cells": [
  {
   "cell_type": "markdown",
   "metadata": {},
   "source": [
    "# Libraries"
   ]
  },
  {
   "cell_type": "code",
   "execution_count": null,
   "metadata": {
    "collapsed": true
   },
   "outputs": [],
   "source": [
    "import numpy as np\n",
    "from numpy import genfromtxt\n",
    "import matplotlib.pyplot as plt\n",
    "\n",
    "# Keras for TensorFlow\n",
    "from tensorflow.contrib.keras.python.keras.models import Sequential\n",
    "from tensorflow.contrib.keras.python.keras.layers import Conv2D, Dense, Flatten, MaxPooling2D, Dropout\n",
    "from tensorflow.contrib.keras.python.keras.optimizers import Adam, RMSprop\n",
    "from tensorflow.contrib.keras.python.keras.callbacks import EarlyStopping\n",
    "from tensorflow.contrib.keras.python.keras.regularizers import l1, l2\n",
    "\n",
    "# from tensorflow.contrib.keras.python.keras.applications.resnet50 import ResNet50"
   ]
  },
  {
   "cell_type": "markdown",
   "metadata": {},
   "source": [
    "# Load training and validation sets"
   ]
  },
  {
   "cell_type": "code",
   "execution_count": null,
   "metadata": {
    "collapsed": true
   },
   "outputs": [],
   "source": [
    "trainingset_x = genfromtxt('gender/wiki_crop/64_64_50614_4098_training_x_onehot.csv', delimiter=',')\n",
    "trainingset_y = genfromtxt('gender/wiki_crop/64_64_50614_4098_training_y_onehot.csv', delimiter=',')\n",
    "\n",
    "testingset_x = genfromtxt('gender/wiki_crop/64_64_11938_4098_testing_x_onehot.csv', delimiter=',')\n",
    "testingset_y = genfromtxt('gender/wiki_crop/64_64_11938_4098_testing_y_onehot.csv', delimiter=',')\n",
    "\n",
    "valset_x = genfromtxt('gender/wiki_crop/64_64_5968_4098_val_x_onehot.csv', delimiter=',')\n",
    "valset_y = genfromtxt('gender/wiki_crop/64_64_5968_4098_val_y_onehot.csv', delimiter=',')"
   ]
  },
  {
   "cell_type": "code",
   "execution_count": null,
   "metadata": {
    "collapsed": true
   },
   "outputs": [],
   "source": [
    "trainingset_x.shape"
   ]
  },
  {
   "cell_type": "code",
   "execution_count": null,
   "metadata": {
    "collapsed": true
   },
   "outputs": [],
   "source": [
    "trainingset_y.shape"
   ]
  },
  {
   "cell_type": "code",
   "execution_count": null,
   "metadata": {
    "collapsed": true
   },
   "outputs": [],
   "source": [
    "valset_x.shape"
   ]
  },
  {
   "cell_type": "code",
   "execution_count": null,
   "metadata": {
    "collapsed": true
   },
   "outputs": [],
   "source": [
    "valset_y.shape"
   ]
  },
  {
   "cell_type": "markdown",
   "metadata": {},
   "source": [
    "# Data processing"
   ]
  },
  {
   "cell_type": "code",
   "execution_count": null,
   "metadata": {
    "collapsed": true
   },
   "outputs": [],
   "source": [
    "img_dim = 64\n",
    "n_channels = 1\n",
    "n_inputs = img_dim*img_dim\n",
    "n_classes = 2\n",
    "\n",
    "trainingset_x = trainingset_x.reshape(trainingset_x.shape[0], img_dim, img_dim)\n",
    "trainingset_x = np.expand_dims(trainingset_x, axis=4)\n",
    "\n",
    "testingset_x = testingset_x.reshape(testingset_x.shape[0], img_dim, img_dim)\n",
    "testingset_x = np.expand_dims(testingset_x, axis=4)\n",
    "\n",
    "valset_x = valset_x.reshape(valset_x.shape[0], img_dim, img_dim)\n",
    "valset_x = np.expand_dims(valset_x, axis=4)"
   ]
  },
  {
   "cell_type": "markdown",
   "metadata": {},
   "source": [
    "# Some useful functions"
   ]
  },
  {
   "cell_type": "markdown",
   "metadata": {},
   "source": [
    "#### Get label from vector or number"
   ]
  },
  {
   "cell_type": "code",
   "execution_count": null,
   "metadata": {
    "collapsed": true
   },
   "outputs": [],
   "source": [
    "def get_label(ohv):\n",
    "    if ohv.shape[0] == 1:\n",
    "        indx = ohv[0]\n",
    "    else:\n",
    "        indx = np.argmax(ohv)\n",
    "        \n",
    "    if indx == 0:\n",
    "        return 'female'\n",
    "    elif indx == 1:\n",
    "        return 'male'"
   ]
  },
  {
   "cell_type": "markdown",
   "metadata": {},
   "source": [
    "#### Plot a sample"
   ]
  },
  {
   "cell_type": "code",
   "execution_count": null,
   "metadata": {
    "collapsed": true
   },
   "outputs": [],
   "source": [
    "img = trainingset_x[0, :]\n",
    "img = img.reshape([img_dim, img_dim])\n",
    "img = np.transpose(img)\n",
    "plt.imshow(img, cmap='gray')\n",
    "plt.xlabel('ground truth: ' + get_label(trainingset_y[0]))\n",
    "plt.show()"
   ]
  },
  {
   "cell_type": "code",
   "execution_count": null,
   "metadata": {
    "collapsed": true
   },
   "outputs": [],
   "source": [
    "img = valset_x[2500, :]\n",
    "# img = img.reshape([img_dim, img_dim])\n",
    "img = img.reshape([img_dim, img_dim])\n",
    "img = np.transpose(img)\n",
    "# plt.imshow(img)\n",
    "plt.imshow(img, cmap='gray')\n",
    "plt.xlabel('ground truth: ' + get_label(valset_y[2500]))\n",
    "plt.show()"
   ]
  },
  {
   "cell_type": "markdown",
   "metadata": {},
   "source": [
    "# Define CNN model using Keras + TensorFlow"
   ]
  },
  {
   "cell_type": "markdown",
   "metadata": {},
   "source": [
    "#### A model in Keras + TensorFlow defined as a sequence of layers"
   ]
  },
  {
   "cell_type": "code",
   "execution_count": null,
   "metadata": {
    "collapsed": true
   },
   "outputs": [],
   "source": [
    "model = Sequential()"
   ]
  },
  {
   "cell_type": "markdown",
   "metadata": {},
   "source": [
    "#### The 1st conv layer followed by a max pooling layer"
   ]
  },
  {
   "cell_type": "code",
   "execution_count": null,
   "metadata": {
    "collapsed": true
   },
   "outputs": [],
   "source": [
    "model.add(Conv2D(64, (3, 3), activation='relu', padding='same',\n",
    "                 input_shape=(img_dim, img_dim, n_channels)))"
   ]
  },
  {
   "cell_type": "code",
   "execution_count": null,
   "metadata": {
    "collapsed": true
   },
   "outputs": [],
   "source": [
    "model.add(Conv2D(64, (3, 3), activation='relu'))"
   ]
  },
  {
   "cell_type": "code",
   "execution_count": null,
   "metadata": {
    "collapsed": true
   },
   "outputs": [],
   "source": [
    "model.add(MaxPooling2D(pool_size=(2, 2)))\n",
    "model.add(Dropout(0.25))"
   ]
  },
  {
   "cell_type": "code",
   "execution_count": null,
   "metadata": {
    "collapsed": true
   },
   "outputs": [],
   "source": [
    "model.add(Conv2D(128, (3, 3), activation='relu', padding='same'))"
   ]
  },
  {
   "cell_type": "code",
   "execution_count": null,
   "metadata": {
    "collapsed": true
   },
   "outputs": [],
   "source": [
    "model.add(Conv2D(128, (3, 3), activation='relu'))"
   ]
  },
  {
   "cell_type": "code",
   "execution_count": null,
   "metadata": {
    "collapsed": true
   },
   "outputs": [],
   "source": [
    "model.add(MaxPooling2D(pool_size=(2, 2)))\n",
    "model.add(Dropout(0.25))"
   ]
  },
  {
   "cell_type": "code",
   "execution_count": null,
   "metadata": {
    "collapsed": true
   },
   "outputs": [],
   "source": [
    "model.add(Conv2D(128, (3, 3), activation='relu', padding='same'))"
   ]
  },
  {
   "cell_type": "code",
   "execution_count": null,
   "metadata": {
    "collapsed": true
   },
   "outputs": [],
   "source": [
    "model.add(Conv2D(128, (3, 3), activation='relu'))"
   ]
  },
  {
   "cell_type": "code",
   "execution_count": null,
   "metadata": {
    "collapsed": true
   },
   "outputs": [],
   "source": [
    "model.add(MaxPooling2D(pool_size=(2, 2)))\n",
    "model.add(Dropout(0.25))"
   ]
  },
  {
   "cell_type": "markdown",
   "metadata": {},
   "source": [
    "#### Fully connected layer"
   ]
  },
  {
   "cell_type": "code",
   "execution_count": null,
   "metadata": {
    "collapsed": true
   },
   "outputs": [],
   "source": [
    "n_hidden_units = 2048\n",
    "\n",
    "model.add(Flatten())\n",
    "model.add(Dense(n_hidden_units, activation='relu', kernel_regularizer=l2(0.001)))\n",
    "model.add(Dropout(0.5))\n",
    "model.add(Dense(n_classes, activation='softmax'))"
   ]
  },
  {
   "cell_type": "markdown",
   "metadata": {},
   "source": [
    "# Compile the model"
   ]
  },
  {
   "cell_type": "code",
   "execution_count": null,
   "metadata": {
    "collapsed": true
   },
   "outputs": [],
   "source": [
    "opt = Adam(lr=0.0001, decay=10e-6)\n",
    "model.compile(loss='categorical_crossentropy', optimizer=opt, metrics=['accuracy'])"
   ]
  },
  {
   "cell_type": "markdown",
   "metadata": {},
   "source": [
    "# Training the model"
   ]
  },
  {
   "cell_type": "code",
   "execution_count": null,
   "metadata": {
    "collapsed": true
   },
   "outputs": [],
   "source": [
    "batch_size = 128\n",
    "n_epoches = 500\n",
    "\n",
    "# Stop training when the validation loss does not change significantly in 20 epoches\n",
    "early_stopping = EarlyStopping(monitor='val_loss', patience=20)\n",
    "\n",
    "model.fit(trainingset_x, trainingset_y,\n",
    "          batch_size=batch_size, epochs=n_epoches,\n",
    "          validation_data=(valset_x, valset_y),\n",
    "          shuffle=True, callbacks=[early_stopping])"
   ]
  },
  {
   "cell_type": "markdown",
   "metadata": {},
   "source": [
    "# Evaluating trained model"
   ]
  },
  {
   "cell_type": "code",
   "execution_count": null,
   "metadata": {
    "collapsed": true
   },
   "outputs": [],
   "source": [
    "scores = model.evaluate(testingset_x[0:9413 + 1, :], testingset_y[0:9413 + 1, :])\n",
    "print('%s for male: %f' % (model.metrics_names[1], scores[1]))\n",
    "\n",
    "scores = model.evaluate(testingset_x[9413:, :], testingset_y[9413:, :])\n",
    "print('%s for female: %f' % (model.metrics_names[1], scores[1]))"
   ]
  },
  {
   "cell_type": "markdown",
   "metadata": {},
   "source": [
    "# Save trained model"
   ]
  },
  {
   "cell_type": "code",
   "execution_count": null,
   "metadata": {
    "collapsed": true
   },
   "outputs": [],
   "source": [
    "model.save_weights('gender_hflip_female.h5')\n",
    "print('> model saved')"
   ]
  },
  {
   "cell_type": "markdown",
   "metadata": {},
   "source": [
    "# Test trained model with a sample"
   ]
  },
  {
   "cell_type": "code",
   "execution_count": null,
   "metadata": {
    "collapsed": true
   },
   "outputs": [],
   "source": [
    "img_indx = np.uint32(np.random.rand()*(testingset_x.shape[0] - 1))\n",
    "sample = testingset_x[img_indx, :]\n",
    "sample = sample.reshape([1, img_dim, img_dim, 1])\n",
    "\n",
    "pred_cls = model.predict_classes(sample, verbose=0)\n",
    "\n",
    "sample = sample.reshape([img_dim, img_dim])\n",
    "sample = np.transpose(sample)\n",
    "\n",
    "plt.imshow(sample, cmap='gray')\n",
    "plt.show()\n",
    "\n",
    "print('> testing image index: %d\\n> true gender: %s\\n> predicted gender: %s'\n",
    "      % (img_indx, get_label(testingset_y[img_indx, :]), get_label(pred_cls)))"
   ]
  },
  {
   "cell_type": "code",
   "execution_count": null,
   "metadata": {
    "collapsed": true
   },
   "outputs": [],
   "source": [
    "import cv2\n",
    "\n",
    "img = cv2.imread('duong.jpg')\n",
    "plt.imshow(cv2.cvtColor(img, cv2.COLOR_BGR2RGB))\n",
    "# plt.imshow(img, cmap='gray')\n",
    "plt.show()\n",
    "\n",
    "img = cv2.cvtColor(img, cv2.COLOR_RGB2GRAY)\n",
    "img = cv2.resize(img, (64, 64))\n",
    "\n",
    "img = cv2.transpose(img)\n",
    "img = img.reshape([1, img_dim, img_dim, 1])\n",
    "pred_cls = model.predict_classes(img, verbose=0)\n",
    "proba = model.predict(img, verbose=0)\n",
    "\n",
    "print('> predicted gender: %s (%f%%)'\n",
    "      % (get_label(pred_cls), np.max(proba)))\n",
    "# print('> testing image index: %d\\n> true gender: %s\\n> predicted gender: %s'\n",
    "#       % (img_indx, get_label(testingset_y[img_indx, :]), get_label(pred_cls)))"
   ]
  },
  {
   "cell_type": "code",
   "execution_count": null,
   "metadata": {
    "collapsed": true
   },
   "outputs": [],
   "source": []
  }
 ],
 "metadata": {
  "anaconda-cloud": {},
  "kernelspec": {
   "display_name": "Python [conda root]",
   "language": "python",
   "name": "conda-root-py"
  },
  "language_info": {
   "codemirror_mode": {
    "name": "ipython",
    "version": 3
   },
   "file_extension": ".py",
   "mimetype": "text/x-python",
   "name": "python",
   "nbconvert_exporter": "python",
   "pygments_lexer": "ipython3",
   "version": "3.5.2"
  }
 },
 "nbformat": 4,
 "nbformat_minor": 1
}
